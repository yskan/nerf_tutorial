{
 "cells": [
  {
   "cell_type": "code",
   "execution_count": 1,
   "metadata": {},
   "outputs": [],
   "source": [
    "%load_ext autoreload\n",
    "%autoreload 2"
   ]
  },
  {
   "cell_type": "code",
   "execution_count": 2,
   "metadata": {},
   "outputs": [],
   "source": [
    "%matplotlib widget\n",
    "import os\n",
    "import torch\n",
    "import numpy as np\n",
    "from tqdm.notebook import tqdm\n",
    "import torch.nn as nn\n",
    "import matplotlib.pyplot as plt\n",
    "from torch.utils.data import DataLoader\n",
    "import imageio"
   ]
  },
  {
   "cell_type": "code",
   "execution_count": 3,
   "metadata": {},
   "outputs": [],
   "source": [
    "device = torch.device('cuda' if torch.cuda.is_available() else 'cpu')"
   ]
  },
  {
   "cell_type": "code",
   "execution_count": 4,
   "metadata": {},
   "outputs": [],
   "source": [
    "class NerfModel(nn.Module):\n",
    "    def __init__(self, embedding_dim_pos=10, embedding_dim_direction=4, hidden_dim=128):\n",
    "        super(NerfModel, self).__init__()\n",
    "\n",
    "        self.block1 = nn.Sequential(\n",
    "            nn.Linear(embedding_dim_pos * 6 + 3, hidden_dim),\n",
    "            nn.ReLU(),\n",
    "            nn.Linear(hidden_dim, hidden_dim),\n",
    "            nn.ReLU(),\n",
    "            nn.Linear(hidden_dim, hidden_dim),\n",
    "            nn.ReLU(),\n",
    "            nn.Linear(hidden_dim, hidden_dim),\n",
    "            nn.ReLU(),\n",
    "        )\n",
    "        # density estimation\n",
    "        self.block2 = nn.Sequential(\n",
    "            nn.Linear(embedding_dim_pos * 6 + hidden_dim + 3, hidden_dim),\n",
    "            nn.ReLU(),\n",
    "            nn.Linear(hidden_dim, hidden_dim),\n",
    "            nn.ReLU(),\n",
    "            nn.Linear(hidden_dim, hidden_dim),\n",
    "            nn.ReLU(),\n",
    "            nn.Linear(hidden_dim, hidden_dim + 1),\n",
    "        )\n",
    "        # color estimation\n",
    "        self.block3 = nn.Sequential(\n",
    "            nn.Linear(embedding_dim_direction * 6 + hidden_dim + 3, hidden_dim // 2),\n",
    "            nn.ReLU(),\n",
    "        )\n",
    "        self.block4 = nn.Sequential(\n",
    "            nn.Linear(hidden_dim // 2, 3),\n",
    "            nn.Sigmoid(),\n",
    "        )\n",
    "\n",
    "        self.embedding_dim_pos = embedding_dim_pos\n",
    "        self.embedding_dim_direction = embedding_dim_direction\n",
    "        self.relu = nn.ReLU()\n",
    "\n",
    "    @staticmethod\n",
    "    def positional_encoding(x, L):\n",
    "        out = [x]\n",
    "        for j in range(L):\n",
    "            out.append(torch.sin(2**j * x))\n",
    "            out.append(torch.cos(2**j * x))\n",
    "        return torch.cat(out, dim=1)\n",
    "\n",
    "    def forward(self, o, d):\n",
    "        emb_x = self.positional_encoding(\n",
    "            o, self.embedding_dim_pos\n",
    "        )  # emb_x: [batch_size, embedding_dim_pos * 6]\n",
    "        emb_d = self.positional_encoding(\n",
    "            d, self.embedding_dim_direction\n",
    "        )  # emb_d: [batch_size, embedding_dim_direction * 6]\n",
    "        h = self.block1(emb_x)  # h: [batch_size, hidden_dim]\n",
    "        tmp = self.block2(\n",
    "            torch.cat((h, emb_x), dim=1)\n",
    "        )  # tmp: [batch_size, hidden_dim + 1]\n",
    "        h, sigma = (\n",
    "            tmp[:, :-1],\n",
    "            self.relu(tmp[:, -1]),\n",
    "        )  # h: [batch_size, hidden_dim], sigma: [batch_size]\n",
    "        h = self.block3(\n",
    "            torch.cat((h, emb_d), dim=1)\n",
    "        )  # h: [batch_size, hidden_dim // 2]\n",
    "        c = self.block4(h)  # c: [batch_size, 3]\n",
    "        return c, sigma"
   ]
  },
  {
   "cell_type": "code",
   "execution_count": 5,
   "metadata": {},
   "outputs": [],
   "source": [
    "def get_rays(H, W, focal, c2w):\n",
    "    i, j = np.meshgrid(np.arange(W, dtype=np.float32), np.arange(H, dtype=np.float32), indexing='xy')\n",
    "    dirs = np.stack([(i-W*.5)/focal, -(j-H*.5)/focal, -np.ones_like(i)], axis=-1)\n",
    "    rays_d = np.sum(dirs[..., np.newaxis, :] * c2w[:3,:3], axis=-1)\n",
    "    rays_o = np.broadcast_to(c2w[:3,-1], np.shape(rays_d))\n",
    "    return rays_o, rays_d"
   ]
  },
  {
   "cell_type": "code",
   "execution_count": 6,
   "metadata": {},
   "outputs": [
    {
     "name": "stdout",
     "output_type": "stream",
     "text": [
      "(106, 100, 100, 3) (106, 4, 4) 138.88887889922103\n",
      "(100, 100, 3) (100, 100, 3)\n"
     ]
    },
    {
     "data": {
      "application/vnd.jupyter.widget-view+json": {
       "model_id": "648f8708a8a34e6b94a4ad598cce2549",
       "version_major": 2,
       "version_minor": 0
      },
      "image/png": "[encoded data removed]",
      "text/html": [
       "\n",
       "            <div style=\"display: inline-block;\">\n",
       "                <div class=\"jupyter-widgets widget-label\" style=\"text-align: center;\">\n",
       "                    Figure\n",
       "                </div>\n",
       "                <img src='data:image/png;base64,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' width=640.0/>\n",
       "            </div>\n",
       "        "
      ],
      "text/plain": [
       "Canvas(toolbar=Toolbar(toolitems=[('Home', 'Reset original view', 'home', 'home'), ('Back', 'Back to previous …"
      ]
     },
     "metadata": {},
     "output_type": "display_data"
    }
   ],
   "source": [
    "data = np.load('tiny_nerf_data.npz')\n",
    "images = data['images']\n",
    "poses = data['poses']\n",
    "focal = data['focal']\n",
    "H, W = images.shape[1:3]\n",
    "print(images.shape, poses.shape, focal)\n",
    "\n",
    "testimg, testpose = images[101], poses[101]\n",
    "test_images = images[100:,:, :,:3].copy()\n",
    "test_poses = poses[100:].copy()\n",
    "images = images[:100,:, :,:3]\n",
    "poses = poses[:100]\n",
    "rays_o, rays_d = get_rays(H, W, focal, testpose)\n",
    "print(rays_o.shape, rays_d.shape)\n",
    "\n",
    "training_dataset = np.zeros((images.shape[0] * H * W, 9))\n",
    "for i in range(images.shape[0] - 1):\n",
    "    rays_o, rays_d = get_rays(H, W, focal, poses[i])\n",
    "    training_dataset[i * H * W : (i + 1) * H * W, :3] = rays_o.reshape(-1, 3)\n",
    "    training_dataset[i * H * W : (i + 1) * H * W, 3:6] = rays_d.reshape(-1, 3)\n",
    "    training_dataset[i * H * W : (i + 1) * H * W, 6:9] = images[i].reshape(-1, 3)\n",
    "\n",
    "testing_dataset = np.zeros((test_images.shape[0] * H * W, 9))\n",
    "for i in range(test_images.shape[0] - 1):\n",
    "    rays_o, rays_d = get_rays(H, W, focal, test_poses[i])\n",
    "    testing_dataset[i * H * W : (i + 1) * H * W, :3] = rays_o.reshape(-1, 3)\n",
    "    testing_dataset[i * H * W : (i + 1) * H * W, 3:6] = rays_d.reshape(-1, 3)\n",
    "    testing_dataset[i * H * W : (i + 1) * H * W, 6:9] = test_images[i].reshape(-1, 3)\n",
    "\n",
    "training_dataset = torch.from_numpy(training_dataset.copy()).float()\n",
    "testing_dataset = torch.from_numpy(testing_dataset.copy()).float()\n",
    "\n",
    "# training_dataset = torch.from_numpy(\n",
    "#         np.load(\"./training_data.npz\", allow_pickle=True)[\"data\"]\n",
    "#     ).float()\n",
    "nb_training_samples = images.shape[0]\n",
    "\n",
    "# testing_dataset = torch.from_numpy(\n",
    "#     np.load(\"./training_data.npz\", allow_pickle=True)[\"data\"]\n",
    "# ).float()\n",
    "nb_testing_samples = test_images.shape[0]\n",
    "plt.imshow(testimg)\n",
    "plt.show()"
   ]
  },
  {
   "cell_type": "code",
   "execution_count": 7,
   "metadata": {},
   "outputs": [],
   "source": [
    "def compute_accumulated_transmittance(alphas):\n",
    "    accumulated_transmittance = torch.cumprod(alphas, 1)\n",
    "    return torch.cat(\n",
    "        (\n",
    "            torch.ones((accumulated_transmittance.shape[0], 1), device=alphas.device),\n",
    "            accumulated_transmittance[:, :-1],\n",
    "        ),\n",
    "        dim=-1,\n",
    "    )\n",
    "\n",
    "\n",
    "def render_rays(nerf_model, ray_origins, ray_directions, hn=2, hf=6, nb_bins=192):\n",
    "    t = torch.linspace(hn, hf, nb_bins, device=device).expand(\n",
    "        ray_origins.shape[0], nb_bins\n",
    "    )\n",
    "    # Perturb sampling along each ray.\n",
    "    mid = (t[:, :-1] + t[:, 1:]) / 2.0\n",
    "    lower = torch.cat((t[:, :1], mid), -1)\n",
    "    upper = torch.cat((mid, t[:, -1:]), -1)\n",
    "    u = torch.rand(t.shape, device=device)\n",
    "    t = lower + (upper - lower) * u  # [batch_size, nb_bins]\n",
    "    delta = torch.cat(\n",
    "        (\n",
    "            t[:, 1:] - t[:, :-1],\n",
    "            torch.tensor([1e10], device=device).expand(ray_origins.shape[0], 1),\n",
    "        ),\n",
    "        -1,\n",
    "    )\n",
    "\n",
    "    # Compute the 3D points along each ray\n",
    "    x = ray_origins.unsqueeze(1) + t.unsqueeze(2) * ray_directions.unsqueeze(\n",
    "        1\n",
    "    )  # [batch_size, nb_bins, 3]\n",
    "    # Expand the ray_directions tensor to match the shape of x\n",
    "    ray_directions = ray_directions.expand(\n",
    "        nb_bins, ray_directions.shape[0], 3\n",
    "    ).transpose(0, 1)\n",
    "\n",
    "    colors, sigma = nerf_model(x.reshape(-1, 3), ray_directions.reshape(-1, 3))\n",
    "    colors = colors.reshape(x.shape)\n",
    "    sigma = sigma.reshape(x.shape[:-1])\n",
    "\n",
    "    alpha = 1 - torch.exp(-sigma * delta)  # [batch_size, nb_bins]\n",
    "    weights = compute_accumulated_transmittance(1 - alpha).unsqueeze(\n",
    "        2\n",
    "    ) * alpha.unsqueeze(2)\n",
    "    # Compute the pixel values as a weighted sum of colors along each ray\n",
    "    c = (weights * colors).sum(dim=1)\n",
    "    weight_sum = weights.sum(-1).sum(-1)  # Regularization for white background\n",
    "    return c + 1 - weight_sum.unsqueeze(-1)"
   ]
  },
  {
   "cell_type": "code",
   "execution_count": 8,
   "metadata": {},
   "outputs": [],
   "source": [
    "def test(model, hn, hf, dataset, epoch, chunk_size=10, img_index=0, nb_bins=64, H=100, W=100, save_img=False):\n",
    "    \"\"\"\n",
    "    Args:\n",
    "        hn: near plane distance\n",
    "        hf: far plane distance\n",
    "        dataset: dataset to render\n",
    "        chunk_size (int, optional): chunk size for memory efficiency. Defaults to 10.\n",
    "        img_index (int, optional): image index to render. Defaults to 0.\n",
    "        nb_bins (int, optional): number of bins for density estimation. Defaults to 192.\n",
    "        H (int, optional): image height. Defaults to 400.\n",
    "        W (int, optional): image width. Defaults to 400.\n",
    "\n",
    "    Returns:\n",
    "        None: None\n",
    "    \"\"\"\n",
    "    with torch.no_grad():\n",
    "        ray_origins = dataset[img_index * H * W : (img_index + 1) * H * W, :3]\n",
    "        ray_directions = dataset[img_index * H * W : (img_index + 1) * H * W, 3:6]\n",
    "        ground_truth_px_values = dataset[img_index * H * W : (img_index + 1) * H * W, 6:]\n",
    "\n",
    "        data = []  # list of regenerated pixel values\n",
    "        img_loss = 0\n",
    "        for i in range(int(np.ceil(H / chunk_size))):  # iterate over chunks\n",
    "            # Get chunk of rays\n",
    "            ray_origins_ = ray_origins[i * W * chunk_size : (i + 1) * W * chunk_size].to(\n",
    "                device\n",
    "            )\n",
    "            ray_directions_ = ray_directions[\n",
    "                i * W * chunk_size : (i + 1) * W * chunk_size\n",
    "            ].to(device)\n",
    "            ground_truth_px_values_ = ground_truth_px_values[\n",
    "                i * W * chunk_size : (i + 1) * W * chunk_size\n",
    "            ].to(device)\n",
    "            regenerated_px_values = render_rays(\n",
    "                model, ray_origins_, ray_directions_, hn=hn, hf=hf, nb_bins=nb_bins\n",
    "            )\n",
    "            data.append(regenerated_px_values)\n",
    "            img_loss += ((ground_truth_px_values_ - regenerated_px_values) ** 2).sum()\n",
    "        img_loss /= int(np.ceil(H / chunk_size))\n",
    "        img = torch.cat(data).data.cpu().numpy().reshape(H, W, 3)\n",
    "\n",
    "        if save_img:\n",
    "            os.makedirs(\"./novel_views\", exist_ok=True)\n",
    "            plt.figure()\n",
    "            plt.imshow(img)\n",
    "            plt.savefig(\n",
    "                f\"./novel_views/img_epoch_{epoch}_idx_{img_index}.png\", bbox_inches=\"tight\"\n",
    "            )\n",
    "            plt.close()\n",
    "        return img_loss, img"
   ]
  },
  {
   "cell_type": "code",
   "execution_count": 9,
   "metadata": {},
   "outputs": [],
   "source": [
    "def train(\n",
    "    nerf_model,\n",
    "    optimizer,\n",
    "    scheduler,\n",
    "    data_loader,\n",
    "    fig,ax,\n",
    "    device=\"cpu\",\n",
    "    hn=0,\n",
    "    hf=1,\n",
    "    nb_epochs=int(1e5),\n",
    "    nb_bins=192,\n",
    "    H=100,\n",
    "    W=100,\n",
    "):\n",
    "    os.makedirs(\"./novel_views\", exist_ok=True)\n",
    "    training_loss = []\n",
    "    log_interval = 100\n",
    "    curr_step = 0\n",
    "    # fig, ax = plt.subplots(1, 2, figsize=(10, 5))\n",
    "    # plt.show(block=False)\n",
    "    for epoch in tqdm(range(nb_epochs)):\n",
    "        pbar = tqdm(data_loader)\n",
    "        for batch_idx, batch in enumerate(pbar):\n",
    "            ray_origins = batch[:, :3].to(device)\n",
    "            ray_directions = batch[:, 3:6].to(device)\n",
    "            ground_truth_px_values = batch[:, 6:].to(device)\n",
    "\n",
    "            regenerated_px_values = render_rays(\n",
    "                nerf_model, ray_origins, ray_directions, hn=hn, hf=hf, nb_bins=nb_bins\n",
    "            )\n",
    "            loss = ((ground_truth_px_values - regenerated_px_values) ** 2).sum()\n",
    "\n",
    "            optimizer.zero_grad()\n",
    "            loss.backward()\n",
    "            optimizer.step()\n",
    "            training_loss.append(loss.item())\n",
    "            curr_step += 1\n",
    "            if batch_idx % log_interval == 0:\n",
    "                # print(f\"Step: {batch_idx}, Loss: {loss.item()}\")\n",
    "                pbar.set_description(f\"Step: {batch_idx}, Loss: {loss.item()}\")\n",
    "                _, test_img = test(\n",
    "                    nerf_model,\n",
    "                    hn,\n",
    "                    hf,\n",
    "                    training_dataset,\n",
    "                    epoch,\n",
    "                    chunk_size=20,\n",
    "                    img_index=5,\n",
    "                    nb_bins=nb_bins,\n",
    "                    H=H,\n",
    "                    W=W,\n",
    "                )\n",
    "                # Plot the training loss\n",
    "                ax[0].clear()\n",
    "                ax[0].plot(training_loss, label=\"Training Loss\")\n",
    "                ax[0].set_yscale(\"log\")\n",
    "                ax[0].set_xlabel(\"Step\")\n",
    "                ax[0].set_ylabel(\"Loss\")\n",
    "                ax[1].imshow(test_img)\n",
    "                ax[1].set_title(\"Test Image\")\n",
    "                fig.canvas.draw()\n",
    "                # fig.canvas.flush_events()\n",
    "\n",
    "        scheduler.step()\n",
    "        test_loss = 0\n",
    "        with imageio.get_writer(\n",
    "            f\"./novel_views/testing_epoch_{epoch}.gif\", mode=\"I\"\n",
    "        ) as writer:\n",
    "            for img_index in tqdm(range(nb_testing_samples)):\n",
    "                test_img_loss, _ = test(\n",
    "                    nerf_model,\n",
    "                    hn,\n",
    "                    hf,\n",
    "                    testing_dataset,\n",
    "                    epoch,\n",
    "                    chunk_size=20,\n",
    "                    img_index=img_index,\n",
    "                    nb_bins=nb_bins,\n",
    "                    H=H,\n",
    "                    W=W,\n",
    "                    save_img=True,\n",
    "                )\n",
    "                for _ in range(24):\n",
    "                    writer.append_data(\n",
    "                        imageio.imread(\n",
    "                            f\"./novel_views/img_epoch_{epoch}_idx_{img_index}.png\"\n",
    "                        )\n",
    "                    )\n",
    "                test_loss += test_img_loss\n",
    "        test_loss /= 200\n",
    "        test_loss = test_loss.item()\n",
    "        print(f\"--- Epoch: {epoch}, Test Loss: {test_loss}\")\n",
    "        ax[0].plot(\n",
    "            [batch_idx + epoch * len(data_loader)] * 2,\n",
    "            [test_loss, test_loss],\n",
    "            label=\"Test Loss\",\n",
    "        )\n",
    "        ax[0].legend()\n",
    "        fig.canvas.draw()\n",
    "    fig.savefig(\"./training_loss.png\")\n",
    "    plt.close(fig)\n",
    "\n",
    "    return training_loss"
   ]
  },
  {
   "cell_type": "code",
   "execution_count": 10,
   "metadata": {},
   "outputs": [],
   "source": [
    "model = NerfModel(hidden_dim=256).to(device)\n",
    "model_optimizer = torch.optim.Adam(model.parameters(), lr=5e-4)\n",
    "scheduler = torch.optim.lr_scheduler.MultiStepLR(\n",
    "    model_optimizer, milestones=[2, 4, 8], gamma=0.5\n",
    ")\n",
    "data_loader = DataLoader(\n",
    "    training_dataset, batch_size=128, shuffle=True, num_workers=4\n",
    ")"
   ]
  },
  {
   "cell_type": "code",
   "execution_count": 11,
   "metadata": {},
   "outputs": [
    {
     "data": {
      "application/vnd.jupyter.widget-view+json": {
       "model_id": "a5efef3f684b45febd1760a0da2ca749",
       "version_major": 2,
       "version_minor": 0
      },
      "image/png": "[encoded data removed]",
      "text/html": [
       "\n",
       "            <div style=\"display: inline-block;\">\n",
       "                <div class=\"jupyter-widgets widget-label\" style=\"text-align: center;\">\n",
       "                    Figure\n",
       "                </div>\n",
       "                <img src='data:image/png;base64,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' width=1000.0/>\n",
       "            </div>\n",
       "        "
      ],
      "text/plain": [
       "Canvas(toolbar=Toolbar(toolitems=[('Home', 'Reset original view', 'home', 'home'), ('Back', 'Back to previous …"
      ]
     },
     "metadata": {},
     "output_type": "display_data"
    }
   ],
   "source": [
    "fig, ax = plt.subplots(1, 2, figsize=(10, 5))\n",
    "plt.show()"
   ]
  },
  {
   "cell_type": "code",
   "execution_count": 12,
   "metadata": {},
   "outputs": [
    {
     "data": {
      "application/vnd.jupyter.widget-view+json": {
       "model_id": "2eb1d3be7736448f945f5fc965d8e0d8",
       "version_major": 2,
       "version_minor": 0
      },
      "text/plain": [
       "  0%|          | 0/16 [00:00<?, ?it/s]"
      ]
     },
     "metadata": {},
     "output_type": "display_data"
    },
    {
     "data": {
      "application/vnd.jupyter.widget-view+json": {
       "model_id": "091f18ec097a4e7fbe470b4844825638",
       "version_major": 2,
       "version_minor": 0
      },
      "text/plain": [
       "  0%|          | 0/7813 [00:00<?, ?it/s]"
      ]
     },
     "metadata": {},
     "output_type": "display_data"
    },
    {
     "name": "stderr",
     "output_type": "stream",
     "text": [
      "Clipping input data to the valid range for imshow with RGB data ([0..1] for floats or [0..255] for integers). Got range [-1.1920929e-07..0.9678789].\n",
      "Clipping input data to the valid range for imshow with RGB data ([0..1] for floats or [0..255] for integers). Got range [-1.1920929e-07..0.96009684].\n",
      "Clipping input data to the valid range for imshow with RGB data ([0..1] for floats or [0..255] for integers). Got range [-1.1920929e-07..0.95615065].\n",
      "Clipping input data to the valid range for imshow with RGB data ([0..1] for floats or [0..255] for integers). Got range [-1.1920929e-07..0.93558216].\n",
      "Clipping input data to the valid range for imshow with RGB data ([0..1] for floats or [0..255] for integers). Got range [-1.1920929e-07..0.9102403].\n",
      "Clipping input data to the valid range for imshow with RGB data ([0..1] for floats or [0..255] for integers). Got range [-1.1920929e-07..0.9337193].\n",
      "Clipping input data to the valid range for imshow with RGB data ([0..1] for floats or [0..255] for integers). Got range [-2.3841858e-07..0.915426].\n",
      "Clipping input data to the valid range for imshow with RGB data ([0..1] for floats or [0..255] for integers). Got range [-1.1920929e-07..0.94475234].\n",
      "Clipping input data to the valid range for imshow with RGB data ([0..1] for floats or [0..255] for integers). Got range [-1.1920929e-07..0.9492347].\n",
      "Clipping input data to the valid range for imshow with RGB data ([0..1] for floats or [0..255] for integers). Got range [-2.3841858e-07..0.95633256].\n",
      "Clipping input data to the valid range for imshow with RGB data ([0..1] for floats or [0..255] for integers). Got range [-1.1920929e-07..0.9591892].\n",
      "Clipping input data to the valid range for imshow with RGB data ([0..1] for floats or [0..255] for integers). Got range [-1.1920929e-07..0.9431808].\n"
     ]
    },
    {
     "data": {
      "application/vnd.jupyter.widget-view+json": {
       "model_id": "45dc2dd6386a4db7951fbdb497b32156",
       "version_major": 2,
       "version_minor": 0
      },
      "text/plain": [
       "  0%|          | 0/6 [00:00<?, ?it/s]"
      ]
     },
     "metadata": {},
     "output_type": "display_data"
    },
    {
     "name": "stderr",
     "output_type": "stream",
     "text": [
      "C:\\Users\\320201619\\AppData\\Local\\Temp\\ipykernel_27852\\2151215220.py:85: DeprecationWarning: Starting with ImageIO v3 the behavior of this function will switch to that of iio.v3.imread. To keep the current behavior (and make this warning disappear) use `import imageio.v2 as imageio` or call `imageio.v2.imread` directly.\n",
      "  imageio.imread(\n",
      "Clipping input data to the valid range for imshow with RGB data ([0..1] for floats or [0..255] for integers). Got range [-1.1920929e-07..0.9926569].\n",
      "Clipping input data to the valid range for imshow with RGB data ([0..1] for floats or [0..255] for integers). Got range [-2.3841858e-07..0.86350185].\n"
     ]
    },
    {
     "name": "stdout",
     "output_type": "stream",
     "text": [
      "--- Epoch: 0, Test Loss: 0.6240995526313782\n"
     ]
    },
    {
     "data": {
      "application/vnd.jupyter.widget-view+json": {
       "model_id": "d49fe4c06c7449b6aa9d16b28cb511d7",
       "version_major": 2,
       "version_minor": 0
      },
      "text/plain": [
       "  0%|          | 0/7813 [00:00<?, ?it/s]"
      ]
     },
     "metadata": {},
     "output_type": "display_data"
    },
    {
     "name": "stderr",
     "output_type": "stream",
     "text": [
      "Clipping input data to the valid range for imshow with RGB data ([0..1] for floats or [0..255] for integers). Got range [-2.3841858e-07..0.9485817].\n"
     ]
    },
    {
     "ename": "KeyboardInterrupt",
     "evalue": "",
     "output_type": "error",
     "traceback": [
      "\u001b[1;31m---------------------------------------------------------------------------\u001b[0m",
      "\u001b[1;31mKeyboardInterrupt\u001b[0m                         Traceback (most recent call last)",
      "Cell \u001b[1;32mIn[12], line 1\u001b[0m\n\u001b[1;32m----> 1\u001b[0m \u001b[43mtrain\u001b[49m\u001b[43m(\u001b[49m\n\u001b[0;32m      2\u001b[0m \u001b[43m    \u001b[49m\u001b[43mmodel\u001b[49m\u001b[43m,\u001b[49m\n\u001b[0;32m      3\u001b[0m \u001b[43m    \u001b[49m\u001b[43mmodel_optimizer\u001b[49m\u001b[43m,\u001b[49m\n\u001b[0;32m      4\u001b[0m \u001b[43m    \u001b[49m\u001b[43mscheduler\u001b[49m\u001b[43m,\u001b[49m\n\u001b[0;32m      5\u001b[0m \u001b[43m    \u001b[49m\u001b[43mdata_loader\u001b[49m\u001b[43m,\u001b[49m\n\u001b[0;32m      6\u001b[0m \u001b[43m    \u001b[49m\u001b[43mfig\u001b[49m\u001b[43m,\u001b[49m\u001b[43max\u001b[49m\u001b[43m,\u001b[49m\u001b[43m    \u001b[49m\n\u001b[0;32m      7\u001b[0m \u001b[43m    \u001b[49m\u001b[43mnb_epochs\u001b[49m\u001b[38;5;241;43m=\u001b[39;49m\u001b[38;5;241;43m16\u001b[39;49m\u001b[43m,\u001b[49m\n\u001b[0;32m      8\u001b[0m \u001b[43m    \u001b[49m\u001b[43mdevice\u001b[49m\u001b[38;5;241;43m=\u001b[39;49m\u001b[43mdevice\u001b[49m\u001b[43m,\u001b[49m\n\u001b[0;32m      9\u001b[0m \u001b[43m    \u001b[49m\u001b[43mhn\u001b[49m\u001b[38;5;241;43m=\u001b[39;49m\u001b[38;5;241;43m2\u001b[39;49m\u001b[43m,\u001b[49m\n\u001b[0;32m     10\u001b[0m \u001b[43m    \u001b[49m\u001b[43mhf\u001b[49m\u001b[38;5;241;43m=\u001b[39;49m\u001b[38;5;241;43m6\u001b[39;49m\u001b[43m,\u001b[49m\n\u001b[0;32m     11\u001b[0m \u001b[43m    \u001b[49m\u001b[43mnb_bins\u001b[49m\u001b[38;5;241;43m=\u001b[39;49m\u001b[38;5;241;43m64\u001b[39;49m\u001b[43m,\u001b[49m\n\u001b[0;32m     12\u001b[0m \u001b[43m    \u001b[49m\u001b[43mH\u001b[49m\u001b[38;5;241;43m=\u001b[39;49m\u001b[38;5;241;43m100\u001b[39;49m\u001b[43m,\u001b[49m\n\u001b[0;32m     13\u001b[0m \u001b[43m    \u001b[49m\u001b[43mW\u001b[49m\u001b[38;5;241;43m=\u001b[39;49m\u001b[38;5;241;43m100\u001b[39;49m\u001b[43m,\u001b[49m\n\u001b[0;32m     14\u001b[0m \u001b[43m)\u001b[49m\n",
      "Cell \u001b[1;32mIn[9], line 61\u001b[0m, in \u001b[0;36mtrain\u001b[1;34m(nerf_model, optimizer, scheduler, data_loader, fig, ax, device, hn, hf, nb_epochs, nb_bins, H, W)\u001b[0m\n\u001b[0;32m     59\u001b[0m         ax[\u001b[38;5;241m1\u001b[39m]\u001b[38;5;241m.\u001b[39mimshow(test_img)\n\u001b[0;32m     60\u001b[0m         ax[\u001b[38;5;241m1\u001b[39m]\u001b[38;5;241m.\u001b[39mset_title(\u001b[38;5;124m\"\u001b[39m\u001b[38;5;124mTest Image\u001b[39m\u001b[38;5;124m\"\u001b[39m)\n\u001b[1;32m---> 61\u001b[0m         \u001b[43mfig\u001b[49m\u001b[38;5;241;43m.\u001b[39;49m\u001b[43mcanvas\u001b[49m\u001b[38;5;241;43m.\u001b[39;49m\u001b[43mdraw\u001b[49m\u001b[43m(\u001b[49m\u001b[43m)\u001b[49m\n\u001b[0;32m     62\u001b[0m         \u001b[38;5;66;03m# fig.canvas.flush_events()\u001b[39;00m\n\u001b[0;32m     64\u001b[0m scheduler\u001b[38;5;241m.\u001b[39mstep()\n",
      "File \u001b[1;32mc:\\DEV\\mambaforge\\envs\\nerf_tutorial\\lib\\site-packages\\matplotlib\\backends\\backend_webagg_core.py:189\u001b[0m, in \u001b[0;36mFigureCanvasWebAggCore.draw\u001b[1;34m(self)\u001b[0m\n\u001b[0;32m    187\u001b[0m \u001b[38;5;28mself\u001b[39m\u001b[38;5;241m.\u001b[39m_png_is_old \u001b[38;5;241m=\u001b[39m \u001b[38;5;28;01mTrue\u001b[39;00m\n\u001b[0;32m    188\u001b[0m \u001b[38;5;28;01mtry\u001b[39;00m:\n\u001b[1;32m--> 189\u001b[0m     \u001b[38;5;28;43msuper\u001b[39;49m\u001b[43m(\u001b[49m\u001b[43m)\u001b[49m\u001b[38;5;241;43m.\u001b[39;49m\u001b[43mdraw\u001b[49m\u001b[43m(\u001b[49m\u001b[43m)\u001b[49m\n\u001b[0;32m    190\u001b[0m \u001b[38;5;28;01mfinally\u001b[39;00m:\n\u001b[0;32m    191\u001b[0m     \u001b[38;5;28mself\u001b[39m\u001b[38;5;241m.\u001b[39mmanager\u001b[38;5;241m.\u001b[39mrefresh_all()\n",
      "File \u001b[1;32mc:\\DEV\\mambaforge\\envs\\nerf_tutorial\\lib\\site-packages\\matplotlib\\backends\\backend_agg.py:387\u001b[0m, in \u001b[0;36mFigureCanvasAgg.draw\u001b[1;34m(self)\u001b[0m\n\u001b[0;32m    384\u001b[0m \u001b[38;5;66;03m# Acquire a lock on the shared font cache.\u001b[39;00m\n\u001b[0;32m    385\u001b[0m \u001b[38;5;28;01mwith\u001b[39;00m (\u001b[38;5;28mself\u001b[39m\u001b[38;5;241m.\u001b[39mtoolbar\u001b[38;5;241m.\u001b[39m_wait_cursor_for_draw_cm() \u001b[38;5;28;01mif\u001b[39;00m \u001b[38;5;28mself\u001b[39m\u001b[38;5;241m.\u001b[39mtoolbar\n\u001b[0;32m    386\u001b[0m       \u001b[38;5;28;01melse\u001b[39;00m nullcontext()):\n\u001b[1;32m--> 387\u001b[0m     \u001b[38;5;28;43mself\u001b[39;49m\u001b[38;5;241;43m.\u001b[39;49m\u001b[43mfigure\u001b[49m\u001b[38;5;241;43m.\u001b[39;49m\u001b[43mdraw\u001b[49m\u001b[43m(\u001b[49m\u001b[38;5;28;43mself\u001b[39;49m\u001b[38;5;241;43m.\u001b[39;49m\u001b[43mrenderer\u001b[49m\u001b[43m)\u001b[49m\n\u001b[0;32m    388\u001b[0m     \u001b[38;5;66;03m# A GUI class may be need to update a window using this draw, so\u001b[39;00m\n\u001b[0;32m    389\u001b[0m     \u001b[38;5;66;03m# don't forget to call the superclass.\u001b[39;00m\n\u001b[0;32m    390\u001b[0m     \u001b[38;5;28msuper\u001b[39m()\u001b[38;5;241m.\u001b[39mdraw()\n",
      "File \u001b[1;32mc:\\DEV\\mambaforge\\envs\\nerf_tutorial\\lib\\site-packages\\matplotlib\\artist.py:95\u001b[0m, in \u001b[0;36m_finalize_rasterization.<locals>.draw_wrapper\u001b[1;34m(artist, renderer, *args, **kwargs)\u001b[0m\n\u001b[0;32m     93\u001b[0m \u001b[38;5;129m@wraps\u001b[39m(draw)\n\u001b[0;32m     94\u001b[0m \u001b[38;5;28;01mdef\u001b[39;00m \u001b[38;5;21mdraw_wrapper\u001b[39m(artist, renderer, \u001b[38;5;241m*\u001b[39margs, \u001b[38;5;241m*\u001b[39m\u001b[38;5;241m*\u001b[39mkwargs):\n\u001b[1;32m---> 95\u001b[0m     result \u001b[38;5;241m=\u001b[39m draw(artist, renderer, \u001b[38;5;241m*\u001b[39margs, \u001b[38;5;241m*\u001b[39m\u001b[38;5;241m*\u001b[39mkwargs)\n\u001b[0;32m     96\u001b[0m     \u001b[38;5;28;01mif\u001b[39;00m renderer\u001b[38;5;241m.\u001b[39m_rasterizing:\n\u001b[0;32m     97\u001b[0m         renderer\u001b[38;5;241m.\u001b[39mstop_rasterizing()\n",
      "File \u001b[1;32mc:\\DEV\\mambaforge\\envs\\nerf_tutorial\\lib\\site-packages\\matplotlib\\artist.py:72\u001b[0m, in \u001b[0;36mallow_rasterization.<locals>.draw_wrapper\u001b[1;34m(artist, renderer)\u001b[0m\n\u001b[0;32m     69\u001b[0m     \u001b[38;5;28;01mif\u001b[39;00m artist\u001b[38;5;241m.\u001b[39mget_agg_filter() \u001b[38;5;129;01mis\u001b[39;00m \u001b[38;5;129;01mnot\u001b[39;00m \u001b[38;5;28;01mNone\u001b[39;00m:\n\u001b[0;32m     70\u001b[0m         renderer\u001b[38;5;241m.\u001b[39mstart_filter()\n\u001b[1;32m---> 72\u001b[0m     \u001b[38;5;28;01mreturn\u001b[39;00m \u001b[43mdraw\u001b[49m\u001b[43m(\u001b[49m\u001b[43martist\u001b[49m\u001b[43m,\u001b[49m\u001b[43m \u001b[49m\u001b[43mrenderer\u001b[49m\u001b[43m)\u001b[49m\n\u001b[0;32m     73\u001b[0m \u001b[38;5;28;01mfinally\u001b[39;00m:\n\u001b[0;32m     74\u001b[0m     \u001b[38;5;28;01mif\u001b[39;00m artist\u001b[38;5;241m.\u001b[39mget_agg_filter() \u001b[38;5;129;01mis\u001b[39;00m \u001b[38;5;129;01mnot\u001b[39;00m \u001b[38;5;28;01mNone\u001b[39;00m:\n",
      "File \u001b[1;32mc:\\DEV\\mambaforge\\envs\\nerf_tutorial\\lib\\site-packages\\matplotlib\\figure.py:3162\u001b[0m, in \u001b[0;36mFigure.draw\u001b[1;34m(self, renderer)\u001b[0m\n\u001b[0;32m   3159\u001b[0m             \u001b[38;5;66;03m# ValueError can occur when resizing a window.\u001b[39;00m\n\u001b[0;32m   3161\u001b[0m     \u001b[38;5;28mself\u001b[39m\u001b[38;5;241m.\u001b[39mpatch\u001b[38;5;241m.\u001b[39mdraw(renderer)\n\u001b[1;32m-> 3162\u001b[0m     \u001b[43mmimage\u001b[49m\u001b[38;5;241;43m.\u001b[39;49m\u001b[43m_draw_list_compositing_images\u001b[49m\u001b[43m(\u001b[49m\n\u001b[0;32m   3163\u001b[0m \u001b[43m        \u001b[49m\u001b[43mrenderer\u001b[49m\u001b[43m,\u001b[49m\u001b[43m \u001b[49m\u001b[38;5;28;43mself\u001b[39;49m\u001b[43m,\u001b[49m\u001b[43m \u001b[49m\u001b[43martists\u001b[49m\u001b[43m,\u001b[49m\u001b[43m \u001b[49m\u001b[38;5;28;43mself\u001b[39;49m\u001b[38;5;241;43m.\u001b[39;49m\u001b[43msuppressComposite\u001b[49m\u001b[43m)\u001b[49m\n\u001b[0;32m   3165\u001b[0m     renderer\u001b[38;5;241m.\u001b[39mclose_group(\u001b[38;5;124m'\u001b[39m\u001b[38;5;124mfigure\u001b[39m\u001b[38;5;124m'\u001b[39m)\n\u001b[0;32m   3166\u001b[0m \u001b[38;5;28;01mfinally\u001b[39;00m:\n",
      "File \u001b[1;32mc:\\DEV\\mambaforge\\envs\\nerf_tutorial\\lib\\site-packages\\matplotlib\\image.py:132\u001b[0m, in \u001b[0;36m_draw_list_compositing_images\u001b[1;34m(renderer, parent, artists, suppress_composite)\u001b[0m\n\u001b[0;32m    130\u001b[0m \u001b[38;5;28;01mif\u001b[39;00m not_composite \u001b[38;5;129;01mor\u001b[39;00m \u001b[38;5;129;01mnot\u001b[39;00m has_images:\n\u001b[0;32m    131\u001b[0m     \u001b[38;5;28;01mfor\u001b[39;00m a \u001b[38;5;129;01min\u001b[39;00m artists:\n\u001b[1;32m--> 132\u001b[0m         \u001b[43ma\u001b[49m\u001b[38;5;241;43m.\u001b[39;49m\u001b[43mdraw\u001b[49m\u001b[43m(\u001b[49m\u001b[43mrenderer\u001b[49m\u001b[43m)\u001b[49m\n\u001b[0;32m    133\u001b[0m \u001b[38;5;28;01melse\u001b[39;00m:\n\u001b[0;32m    134\u001b[0m     \u001b[38;5;66;03m# Composite any adjacent images together\u001b[39;00m\n\u001b[0;32m    135\u001b[0m     image_group \u001b[38;5;241m=\u001b[39m []\n",
      "File \u001b[1;32mc:\\DEV\\mambaforge\\envs\\nerf_tutorial\\lib\\site-packages\\matplotlib\\artist.py:72\u001b[0m, in \u001b[0;36mallow_rasterization.<locals>.draw_wrapper\u001b[1;34m(artist, renderer)\u001b[0m\n\u001b[0;32m     69\u001b[0m     \u001b[38;5;28;01mif\u001b[39;00m artist\u001b[38;5;241m.\u001b[39mget_agg_filter() \u001b[38;5;129;01mis\u001b[39;00m \u001b[38;5;129;01mnot\u001b[39;00m \u001b[38;5;28;01mNone\u001b[39;00m:\n\u001b[0;32m     70\u001b[0m         renderer\u001b[38;5;241m.\u001b[39mstart_filter()\n\u001b[1;32m---> 72\u001b[0m     \u001b[38;5;28;01mreturn\u001b[39;00m \u001b[43mdraw\u001b[49m\u001b[43m(\u001b[49m\u001b[43martist\u001b[49m\u001b[43m,\u001b[49m\u001b[43m \u001b[49m\u001b[43mrenderer\u001b[49m\u001b[43m)\u001b[49m\n\u001b[0;32m     73\u001b[0m \u001b[38;5;28;01mfinally\u001b[39;00m:\n\u001b[0;32m     74\u001b[0m     \u001b[38;5;28;01mif\u001b[39;00m artist\u001b[38;5;241m.\u001b[39mget_agg_filter() \u001b[38;5;129;01mis\u001b[39;00m \u001b[38;5;129;01mnot\u001b[39;00m \u001b[38;5;28;01mNone\u001b[39;00m:\n",
      "File \u001b[1;32mc:\\DEV\\mambaforge\\envs\\nerf_tutorial\\lib\\site-packages\\matplotlib\\axes\\_base.py:3137\u001b[0m, in \u001b[0;36m_AxesBase.draw\u001b[1;34m(self, renderer)\u001b[0m\n\u001b[0;32m   3134\u001b[0m \u001b[38;5;28;01mif\u001b[39;00m artists_rasterized:\n\u001b[0;32m   3135\u001b[0m     _draw_rasterized(\u001b[38;5;28mself\u001b[39m\u001b[38;5;241m.\u001b[39mfigure, artists_rasterized, renderer)\n\u001b[1;32m-> 3137\u001b[0m \u001b[43mmimage\u001b[49m\u001b[38;5;241;43m.\u001b[39;49m\u001b[43m_draw_list_compositing_images\u001b[49m\u001b[43m(\u001b[49m\n\u001b[0;32m   3138\u001b[0m \u001b[43m    \u001b[49m\u001b[43mrenderer\u001b[49m\u001b[43m,\u001b[49m\u001b[43m \u001b[49m\u001b[38;5;28;43mself\u001b[39;49m\u001b[43m,\u001b[49m\u001b[43m \u001b[49m\u001b[43martists\u001b[49m\u001b[43m,\u001b[49m\u001b[43m \u001b[49m\u001b[38;5;28;43mself\u001b[39;49m\u001b[38;5;241;43m.\u001b[39;49m\u001b[43mfigure\u001b[49m\u001b[38;5;241;43m.\u001b[39;49m\u001b[43msuppressComposite\u001b[49m\u001b[43m)\u001b[49m\n\u001b[0;32m   3140\u001b[0m renderer\u001b[38;5;241m.\u001b[39mclose_group(\u001b[38;5;124m'\u001b[39m\u001b[38;5;124maxes\u001b[39m\u001b[38;5;124m'\u001b[39m)\n\u001b[0;32m   3141\u001b[0m \u001b[38;5;28mself\u001b[39m\u001b[38;5;241m.\u001b[39mstale \u001b[38;5;241m=\u001b[39m \u001b[38;5;28;01mFalse\u001b[39;00m\n",
      "File \u001b[1;32mc:\\DEV\\mambaforge\\envs\\nerf_tutorial\\lib\\site-packages\\matplotlib\\image.py:132\u001b[0m, in \u001b[0;36m_draw_list_compositing_images\u001b[1;34m(renderer, parent, artists, suppress_composite)\u001b[0m\n\u001b[0;32m    130\u001b[0m \u001b[38;5;28;01mif\u001b[39;00m not_composite \u001b[38;5;129;01mor\u001b[39;00m \u001b[38;5;129;01mnot\u001b[39;00m has_images:\n\u001b[0;32m    131\u001b[0m     \u001b[38;5;28;01mfor\u001b[39;00m a \u001b[38;5;129;01min\u001b[39;00m artists:\n\u001b[1;32m--> 132\u001b[0m         \u001b[43ma\u001b[49m\u001b[38;5;241;43m.\u001b[39;49m\u001b[43mdraw\u001b[49m\u001b[43m(\u001b[49m\u001b[43mrenderer\u001b[49m\u001b[43m)\u001b[49m\n\u001b[0;32m    133\u001b[0m \u001b[38;5;28;01melse\u001b[39;00m:\n\u001b[0;32m    134\u001b[0m     \u001b[38;5;66;03m# Composite any adjacent images together\u001b[39;00m\n\u001b[0;32m    135\u001b[0m     image_group \u001b[38;5;241m=\u001b[39m []\n",
      "File \u001b[1;32mc:\\DEV\\mambaforge\\envs\\nerf_tutorial\\lib\\site-packages\\matplotlib\\artist.py:72\u001b[0m, in \u001b[0;36mallow_rasterization.<locals>.draw_wrapper\u001b[1;34m(artist, renderer)\u001b[0m\n\u001b[0;32m     69\u001b[0m     \u001b[38;5;28;01mif\u001b[39;00m artist\u001b[38;5;241m.\u001b[39mget_agg_filter() \u001b[38;5;129;01mis\u001b[39;00m \u001b[38;5;129;01mnot\u001b[39;00m \u001b[38;5;28;01mNone\u001b[39;00m:\n\u001b[0;32m     70\u001b[0m         renderer\u001b[38;5;241m.\u001b[39mstart_filter()\n\u001b[1;32m---> 72\u001b[0m     \u001b[38;5;28;01mreturn\u001b[39;00m \u001b[43mdraw\u001b[49m\u001b[43m(\u001b[49m\u001b[43martist\u001b[49m\u001b[43m,\u001b[49m\u001b[43m \u001b[49m\u001b[43mrenderer\u001b[49m\u001b[43m)\u001b[49m\n\u001b[0;32m     73\u001b[0m \u001b[38;5;28;01mfinally\u001b[39;00m:\n\u001b[0;32m     74\u001b[0m     \u001b[38;5;28;01mif\u001b[39;00m artist\u001b[38;5;241m.\u001b[39mget_agg_filter() \u001b[38;5;129;01mis\u001b[39;00m \u001b[38;5;129;01mnot\u001b[39;00m \u001b[38;5;28;01mNone\u001b[39;00m:\n",
      "File \u001b[1;32mc:\\DEV\\mambaforge\\envs\\nerf_tutorial\\lib\\site-packages\\matplotlib\\image.py:653\u001b[0m, in \u001b[0;36m_ImageBase.draw\u001b[1;34m(self, renderer)\u001b[0m\n\u001b[0;32m    651\u001b[0m         renderer\u001b[38;5;241m.\u001b[39mdraw_image(gc, l, b, im, trans)\n\u001b[0;32m    652\u001b[0m \u001b[38;5;28;01melse\u001b[39;00m:\n\u001b[1;32m--> 653\u001b[0m     im, l, b, trans \u001b[38;5;241m=\u001b[39m \u001b[38;5;28;43mself\u001b[39;49m\u001b[38;5;241;43m.\u001b[39;49m\u001b[43mmake_image\u001b[49m\u001b[43m(\u001b[49m\n\u001b[0;32m    654\u001b[0m \u001b[43m        \u001b[49m\u001b[43mrenderer\u001b[49m\u001b[43m,\u001b[49m\u001b[43m \u001b[49m\u001b[43mrenderer\u001b[49m\u001b[38;5;241;43m.\u001b[39;49m\u001b[43mget_image_magnification\u001b[49m\u001b[43m(\u001b[49m\u001b[43m)\u001b[49m\u001b[43m)\u001b[49m\n\u001b[0;32m    655\u001b[0m     \u001b[38;5;28;01mif\u001b[39;00m im \u001b[38;5;129;01mis\u001b[39;00m \u001b[38;5;129;01mnot\u001b[39;00m \u001b[38;5;28;01mNone\u001b[39;00m:\n\u001b[0;32m    656\u001b[0m         renderer\u001b[38;5;241m.\u001b[39mdraw_image(gc, l, b, im)\n",
      "File \u001b[1;32mc:\\DEV\\mambaforge\\envs\\nerf_tutorial\\lib\\site-packages\\matplotlib\\image.py:952\u001b[0m, in \u001b[0;36mAxesImage.make_image\u001b[1;34m(self, renderer, magnification, unsampled)\u001b[0m\n\u001b[0;32m    949\u001b[0m transformed_bbox \u001b[38;5;241m=\u001b[39m TransformedBbox(bbox, trans)\n\u001b[0;32m    950\u001b[0m clip \u001b[38;5;241m=\u001b[39m ((\u001b[38;5;28mself\u001b[39m\u001b[38;5;241m.\u001b[39mget_clip_box() \u001b[38;5;129;01mor\u001b[39;00m \u001b[38;5;28mself\u001b[39m\u001b[38;5;241m.\u001b[39maxes\u001b[38;5;241m.\u001b[39mbbox) \u001b[38;5;28;01mif\u001b[39;00m \u001b[38;5;28mself\u001b[39m\u001b[38;5;241m.\u001b[39mget_clip_on()\n\u001b[0;32m    951\u001b[0m         \u001b[38;5;28;01melse\u001b[39;00m \u001b[38;5;28mself\u001b[39m\u001b[38;5;241m.\u001b[39mfigure\u001b[38;5;241m.\u001b[39mbbox)\n\u001b[1;32m--> 952\u001b[0m \u001b[38;5;28;01mreturn\u001b[39;00m \u001b[38;5;28;43mself\u001b[39;49m\u001b[38;5;241;43m.\u001b[39;49m\u001b[43m_make_image\u001b[49m\u001b[43m(\u001b[49m\u001b[38;5;28;43mself\u001b[39;49m\u001b[38;5;241;43m.\u001b[39;49m\u001b[43m_A\u001b[49m\u001b[43m,\u001b[49m\u001b[43m \u001b[49m\u001b[43mbbox\u001b[49m\u001b[43m,\u001b[49m\u001b[43m \u001b[49m\u001b[43mtransformed_bbox\u001b[49m\u001b[43m,\u001b[49m\u001b[43m \u001b[49m\u001b[43mclip\u001b[49m\u001b[43m,\u001b[49m\n\u001b[0;32m    953\u001b[0m \u001b[43m                        \u001b[49m\u001b[43mmagnification\u001b[49m\u001b[43m,\u001b[49m\u001b[43m \u001b[49m\u001b[43munsampled\u001b[49m\u001b[38;5;241;43m=\u001b[39;49m\u001b[43munsampled\u001b[49m\u001b[43m)\u001b[49m\n",
      "File \u001b[1;32mc:\\DEV\\mambaforge\\envs\\nerf_tutorial\\lib\\site-packages\\matplotlib\\image.py:567\u001b[0m, in \u001b[0;36m_ImageBase._make_image\u001b[1;34m(self, A, in_bbox, out_bbox, clip_bbox, magnification, unsampled, round_to_pixel_border)\u001b[0m\n\u001b[0;32m    564\u001b[0m     \u001b[38;5;28;01melse\u001b[39;00m:\n\u001b[0;32m    565\u001b[0m         output_alpha \u001b[38;5;241m=\u001b[39m _resample(  \u001b[38;5;66;03m# resample alpha channel\u001b[39;00m\n\u001b[0;32m    566\u001b[0m             \u001b[38;5;28mself\u001b[39m, A[\u001b[38;5;241m.\u001b[39m\u001b[38;5;241m.\u001b[39m\u001b[38;5;241m.\u001b[39m, \u001b[38;5;241m3\u001b[39m], out_shape, t, alpha\u001b[38;5;241m=\u001b[39malpha)\n\u001b[1;32m--> 567\u001b[0m     output \u001b[38;5;241m=\u001b[39m \u001b[43m_resample\u001b[49m\u001b[43m(\u001b[49m\u001b[43m  \u001b[49m\u001b[38;5;66;43;03m# resample rgb channels\u001b[39;49;00m\n\u001b[0;32m    568\u001b[0m \u001b[43m        \u001b[49m\u001b[38;5;28;43mself\u001b[39;49m\u001b[43m,\u001b[49m\u001b[43m \u001b[49m\u001b[43m_rgb_to_rgba\u001b[49m\u001b[43m(\u001b[49m\u001b[43mA\u001b[49m\u001b[43m[\u001b[49m\u001b[38;5;241;43m.\u001b[39;49m\u001b[38;5;241;43m.\u001b[39;49m\u001b[38;5;241;43m.\u001b[39;49m\u001b[43m,\u001b[49m\u001b[43m \u001b[49m\u001b[43m:\u001b[49m\u001b[38;5;241;43m3\u001b[39;49m\u001b[43m]\u001b[49m\u001b[43m)\u001b[49m\u001b[43m,\u001b[49m\u001b[43m \u001b[49m\u001b[43mout_shape\u001b[49m\u001b[43m,\u001b[49m\u001b[43m \u001b[49m\u001b[43mt\u001b[49m\u001b[43m,\u001b[49m\u001b[43m \u001b[49m\u001b[43malpha\u001b[49m\u001b[38;5;241;43m=\u001b[39;49m\u001b[43malpha\u001b[49m\u001b[43m)\u001b[49m\n\u001b[0;32m    569\u001b[0m     output[\u001b[38;5;241m.\u001b[39m\u001b[38;5;241m.\u001b[39m\u001b[38;5;241m.\u001b[39m, \u001b[38;5;241m3\u001b[39m] \u001b[38;5;241m=\u001b[39m output_alpha  \u001b[38;5;66;03m# recombine rgb and alpha\u001b[39;00m\n\u001b[0;32m    571\u001b[0m \u001b[38;5;66;03m# output is now either a 2D array of normed (int or float) data\u001b[39;00m\n\u001b[0;32m    572\u001b[0m \u001b[38;5;66;03m# or an RGBA array of re-sampled input\u001b[39;00m\n",
      "File \u001b[1;32mc:\\DEV\\mambaforge\\envs\\nerf_tutorial\\lib\\site-packages\\matplotlib\\image.py:208\u001b[0m, in \u001b[0;36m_resample\u001b[1;34m(image_obj, data, out_shape, transform, resample, alpha)\u001b[0m\n\u001b[0;32m    206\u001b[0m \u001b[38;5;28;01mif\u001b[39;00m resample \u001b[38;5;129;01mis\u001b[39;00m \u001b[38;5;28;01mNone\u001b[39;00m:\n\u001b[0;32m    207\u001b[0m     resample \u001b[38;5;241m=\u001b[39m image_obj\u001b[38;5;241m.\u001b[39mget_resample()\n\u001b[1;32m--> 208\u001b[0m \u001b[43m_image\u001b[49m\u001b[38;5;241;43m.\u001b[39;49m\u001b[43mresample\u001b[49m\u001b[43m(\u001b[49m\u001b[43mdata\u001b[49m\u001b[43m,\u001b[49m\u001b[43m \u001b[49m\u001b[43mout\u001b[49m\u001b[43m,\u001b[49m\u001b[43m \u001b[49m\u001b[43mtransform\u001b[49m\u001b[43m,\u001b[49m\n\u001b[0;32m    209\u001b[0m \u001b[43m                \u001b[49m\u001b[43m_interpd_\u001b[49m\u001b[43m[\u001b[49m\u001b[43minterpolation\u001b[49m\u001b[43m]\u001b[49m\u001b[43m,\u001b[49m\n\u001b[0;32m    210\u001b[0m \u001b[43m                \u001b[49m\u001b[43mresample\u001b[49m\u001b[43m,\u001b[49m\n\u001b[0;32m    211\u001b[0m \u001b[43m                \u001b[49m\u001b[43malpha\u001b[49m\u001b[43m,\u001b[49m\n\u001b[0;32m    212\u001b[0m \u001b[43m                \u001b[49m\u001b[43mimage_obj\u001b[49m\u001b[38;5;241;43m.\u001b[39;49m\u001b[43mget_filternorm\u001b[49m\u001b[43m(\u001b[49m\u001b[43m)\u001b[49m\u001b[43m,\u001b[49m\n\u001b[0;32m    213\u001b[0m \u001b[43m                \u001b[49m\u001b[43mimage_obj\u001b[49m\u001b[38;5;241;43m.\u001b[39;49m\u001b[43mget_filterrad\u001b[49m\u001b[43m(\u001b[49m\u001b[43m)\u001b[49m\u001b[43m)\u001b[49m\n\u001b[0;32m    214\u001b[0m \u001b[38;5;28;01mreturn\u001b[39;00m out\n",
      "\u001b[1;31mKeyboardInterrupt\u001b[0m: "
     ]
    }
   ],
   "source": [
    "train(\n",
    "    model,\n",
    "    model_optimizer,\n",
    "    scheduler,\n",
    "    data_loader,\n",
    "    fig,ax,    \n",
    "    nb_epochs=16,\n",
    "    device=device,\n",
    "    hn=2,\n",
    "    hf=6,\n",
    "    nb_bins=64,\n",
    "    H=100,\n",
    "    W=100,\n",
    ")"
   ]
  },
  {
   "cell_type": "code",
   "execution_count": 13,
   "metadata": {},
   "outputs": [],
   "source": [
    "def gen_image(model, ray_origins, ray_directions, hn, hf, chunk_size=10, nb_bins=64, H=100, W=100):\n",
    "    \"\"\"\n",
    "    Args:\n",
    "        hn: near plane distance\n",
    "        hf: far plane distance\n",
    "        dataset: dataset to render\n",
    "        chunk_size (int, optional): chunk size for memory efficiency. Defaults to 10.\n",
    "        img_index (int, optional): image index to render. Defaults to 0.\n",
    "        nb_bins (int, optional): number of bins for density estimation. Defaults to 192.\n",
    "        H (int, optional): image height. Defaults to 400.\n",
    "        W (int, optional): image width. Defaults to 400.\n",
    "\n",
    "    Returns:\n",
    "        None: None\n",
    "    \"\"\"\n",
    "    with torch.no_grad():\n",
    "        data = []  # list of regenerated pixel values\n",
    "        for i in range(int(np.ceil(H / chunk_size))):  # iterate over chunks\n",
    "            # Get chunk of rays\n",
    "            ray_origins_ = ray_origins[i * W * chunk_size : (i + 1) * W * chunk_size].to(\n",
    "                device\n",
    "            )\n",
    "            ray_directions_ = ray_directions[\n",
    "                i * W * chunk_size : (i + 1) * W * chunk_size\n",
    "            ].to(device)\n",
    "\n",
    "            regenerated_px_values = render_rays(\n",
    "                model, ray_origins_, ray_directions_, hn=hn, hf=hf, nb_bins=nb_bins\n",
    "            )\n",
    "            data.append(regenerated_px_values)\n",
    "        img = torch.cat(data).data.cpu().numpy().reshape(H, W, 3)\n",
    "\n",
    "        return img"
   ]
  },
  {
   "cell_type": "code",
   "execution_count": 17,
   "metadata": {},
   "outputs": [
    {
     "data": {
      "application/vnd.jupyter.widget-view+json": {
       "model_id": "3b7d143c50184b7986977fb72fde294c",
       "version_major": 2,
       "version_minor": 0
      },
      "text/plain": [
       "interactive(children=(FloatSlider(value=100.0, description='theta', max=360.0, step=0.01), FloatSlider(value=-…"
      ]
     },
     "execution_count": 17,
     "metadata": {},
     "output_type": "execute_result"
    }
   ],
   "source": [
    "from ipywidgets import interactive, widgets\n",
    "\n",
    "\n",
    "def trans_t(t):\n",
    "    return np.array([[1, 0, 0, 0], [0, 1, 0, 0], [0, 0, 1, t], [0, 0, 0, 1]], dtype=np.float32)\n",
    "\n",
    "def rot_phi(phi):\n",
    "    return np.array([[1, 0, 0, 0], [0, np.cos(phi), -np.sin(phi), 0], [0, np.sin(phi), np.cos(phi), 0], [0, 0, 0, 1]], dtype=np.float32)\n",
    "\n",
    "def rot_theta(th):\n",
    "    return np.array([[np.cos(th), 0, -np.sin(th), 0], [0, 1, 0, 0], [np.sin(th), 0, np.cos(th), 0], [0, 0, 0, 1]], dtype=np.float32)\n",
    "\n",
    "\n",
    "def pose_spherical(theta, phi, radius):\n",
    "    c2w = trans_t(radius)\n",
    "    c2w = rot_phi(phi/180.*np.pi) @ c2w\n",
    "    c2w = rot_theta(theta/180.*np.pi) @ c2w\n",
    "    c2w = np.array([[-1,0,0,0],[0,0,1,0],[0,1,0,0],[0,0,0,1]]) @ c2w\n",
    "    return c2w\n",
    "\n",
    "\n",
    "def f(**kwargs):\n",
    "    c2w = pose_spherical(**kwargs)\n",
    "    rays_o, rays_d = get_rays(H, W, focal, c2w[:3,:4])\n",
    "    rays_o = torch.from_numpy(rays_o.reshape(-1, 3)).to(device).float()\n",
    "    rays_d = torch.from_numpy(rays_d.reshape(-1, 3)).to(device).float()\n",
    "    rgb = gen_image(model, rays_o, rays_d, hn=2., hf=6., nb_bins=64)\n",
    "    img = np.clip(rgb,0,1)\n",
    "    \n",
    "    plt.figure(2, figsize=(20,6))\n",
    "    plt.imshow(img)\n",
    "    plt.show()\n",
    "    \n",
    "\n",
    "def sldr(v, mi, ma):\n",
    "    return widgets.FloatSlider(value=v, min=mi, max=ma, step=0.01)\n",
    "\n",
    "names = [\n",
    "    ['theta', [100., 0., 360]],\n",
    "    ['phi', [-30., -90, 0]],\n",
    "    ['radius', [4., 3., 5.]],\n",
    "]\n",
    "\n",
    "interactive_plot = interactive(f, **{s[0] : sldr(*s[1]) for s in names})\n",
    "output = interactive_plot.children[-1]\n",
    "output.layout.height = '350px'\n",
    "interactive_plot"
   ]
  },
  {
   "cell_type": "code",
   "execution_count": 26,
   "metadata": {},
   "outputs": [
    {
     "data": {
      "application/vnd.jupyter.widget-view+json": {
       "model_id": "feef8cb55b4140df81e5113e0029d024",
       "version_major": 2,
       "version_minor": 0
      },
      "text/plain": [
       "  0%|          | 0/120 [00:00<?, ?it/s]"
      ]
     },
     "metadata": {},
     "output_type": "display_data"
    }
   ],
   "source": [
    "frames = []\n",
    "for th in tqdm(np.linspace(0., 360., 120, endpoint=False)):\n",
    "    c2w = pose_spherical(th, -30., 4.)\n",
    "    rays_o, rays_d = get_rays(H, W, focal, c2w[:3,:4])\n",
    "    rays_o = torch.from_numpy(rays_o.reshape(-1, 3)).to(device).float()\n",
    "    rays_d = torch.from_numpy(rays_d.reshape(-1, 3)).to(device).float()\n",
    "    rgb = gen_image(model, rays_o, rays_d, hn=2., hf=6., nb_bins=64)\n",
    "    \n",
    "    # Upsample frames to 350x350\n",
    "    f = torch.from_numpy((255*np.clip(rgb,0,1)).astype(np.uint8)).permute(2, 0, 1).unsqueeze(0)\n",
    "    f = nn.functional.interpolate(f, size=(350, 350), mode=\"nearest\")\n",
    "    frames.append(f[0].permute(1, 2, 0).numpy().astype(np.uint8))\n",
    "\n",
    "\n",
    "f = './video.gif'\n",
    "# writer = imageio.get_writer(f, fps=30)\n",
    "imageio.mimwrite(f, frames, fps=30, quality=7)\n",
    "# for frame in frames:\n",
    "#     writer.append_data(frame)\n",
    "# writer.close()"
   ]
  }
 ],
 "metadata": {
  "kernelspec": {
   "display_name": "nerf_tutorial",
   "language": "python",
   "name": "python3"
  },
  "language_info": {
   "codemirror_mode": {
    "name": "ipython",
    "version": 3
   },
   "file_extension": ".py",
   "mimetype": "text/x-python",
   "name": "python",
   "nbconvert_exporter": "python",
   "pygments_lexer": "ipython3",
   "version": "3.10.15"
  }
 },
 "nbformat": 4,
 "nbformat_minor": 2
}
